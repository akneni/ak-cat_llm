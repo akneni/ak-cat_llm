{
 "cells": [
  {
   "cell_type": "code",
   "execution_count": null,
   "metadata": {},
   "outputs": [],
   "source": [
    "x = '''DECLARE\n",
    "    TYPE c_name_table IS TABLE OF CUSTOMER.C_NAME%TYPE;\n",
    "    l_c_names c_name_table;\n",
    "BEGIN\n",
    "    SELECT C_NAME BULK COLLECT INTO l_c_names FROM CUSTOMER;\n",
    "    FOR i IN 1..l_c_names.COUNT LOOP\n",
    "        DBMS_OUTPUT.put_line(l_c_names(i));\n",
    "    END LOOP;\n",
    "END;\n",
    "/'''"
   ]
  },
  {
   "cell_type": "code",
   "execution_count": null,
   "metadata": {},
   "outputs": [],
   "source": [
    "import pyautogui as pag\n",
    "import time\n",
    "\n",
    "time.sleep(10)\n",
    "\n",
    "pag.write(x, 0.2)"
   ]
  }
 ],
 "metadata": {
  "kernelspec": {
   "display_name": "base",
   "language": "python",
   "name": "python3"
  },
  "language_info": {
   "name": "python",
   "version": "3.12.6"
  }
 },
 "nbformat": 4,
 "nbformat_minor": 2
}
